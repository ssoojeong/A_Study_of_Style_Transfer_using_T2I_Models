{
 "cells": [
  {
   "cell_type": "markdown",
   "metadata": {},
   "source": [
    "### Train"
   ]
  },
  {
   "cell_type": "code",
   "execution_count": null,
   "metadata": {
    "vscode": {
     "languageId": "plaintext"
    }
   },
   "outputs": [],
   "source": [
    "python train.py \\\n",
    "    --model textual_inversion \\\n",
    "    --instance_dir \"./data/peanuts/image\" \\ #'./data/wikiart/image'\n",
    "    --output_dir \"./save/model_ckpt/TI\" \\\n",
    "\n",
    "python train.py \\\n",
    "    --model dreambooth \\\n",
    "    --instance_dir \"./data/peanuts/image\" \\ #'./data/wikiart/image'\n",
    "    --class_dir \"./data/sketch/images\" \\\n",
    "    --output_dir \"./save/model_ckpt/dreambooth\"\n",
    "\n",
    "python train.py \\\n",
    "    --model custom_diffusion \\\n",
    "    --instance_dir \"./data/peanuts/image\" \\ #'./data/wikiart/image'\n",
    "    --class_dir \"./data/sketch/images\" \\\n",
    "    --output_dir \"./save/model_ckpt/custom\"\n",
    "\n",
    "####\n",
    "\n",
    "python train.py \\\n",
    "    --model {모델명} \\\n",
    "    --instance_dir \"./data/peanuts/image\" \\ #'./data/wikiart/image'\n",
    "    --class_dir \"./data/sketch/images\" \\\n",
    "    --output_dir \"./save/model_ckpt/{모델명}\"\n",
    "\n",
    "\n",
    "> textual_inversion, dreambooth, custom_diffusion"
   ]
  },
  {
   "cell_type": "markdown",
   "metadata": {},
   "source": [
    "### Inference"
   ]
  },
  {
   "cell_type": "code",
   "execution_count": null,
   "metadata": {
    "vscode": {
     "languageId": "plaintext"
    }
   },
   "outputs": [],
   "source": [
    "python inferenceg.py \\\n",
    "    --model {모델명} \\\n",
    "    --model_dir \"./model_dir\" \\\n",
    "    --save_dir \"./save_dir\" \\\n",
    "    --prompt_dir \"./prompt_dir\"\n",
    "\n",
    "> textual_inversion, dreambooth, custom_diffusion"
   ]
  }
 ],
 "metadata": {
  "kernelspec": {
   "display_name": "dream",
   "language": "python",
   "name": "python3"
  },
  "language_info": {
   "codemirror_mode": {
    "name": "ipython",
    "version": 3
   },
   "file_extension": ".py",
   "mimetype": "text/x-python",
   "name": "python",
   "nbconvert_exporter": "python",
   "pygments_lexer": "ipython3",
   "version": "3.9.17"
  },
  "orig_nbformat": 4
 },
 "nbformat": 4,
 "nbformat_minor": 2
}
